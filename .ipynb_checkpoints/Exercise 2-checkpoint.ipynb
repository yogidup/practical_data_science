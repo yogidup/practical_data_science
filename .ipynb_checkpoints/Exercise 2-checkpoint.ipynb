{
 "cells": [
  {
   "cell_type": "markdown",
   "metadata": {},
   "source": [
    "#### 1. Unpack the following tuples: `tup = (9, 16, 5)`"
   ]
  },
  {
   "cell_type": "code",
   "execution_count": 17,
   "metadata": {},
   "outputs": [
    {
     "data": {
      "text/plain": [
       "16"
      ]
     },
     "execution_count": 17,
     "metadata": {},
     "output_type": "execute_result"
    }
   ],
   "source": [
    "tup = (9, 16, 5)\n",
    "a, b, c = tup\n",
    "\n",
    "b"
   ]
  },
  {
   "cell_type": "markdown",
   "metadata": {},
   "source": [
    "#### 2. Get the 3rd element of the `ls = ['ayyoub', True, 23, 101.349]`"
   ]
  },
  {
   "cell_type": "code",
   "execution_count": 18,
   "metadata": {},
   "outputs": [
    {
     "data": {
      "text/plain": [
       "23"
      ]
     },
     "execution_count": 18,
     "metadata": {},
     "output_type": "execute_result"
    }
   ],
   "source": [
    "ls = ['ayyoub', True, 23, 101.349]\n",
    "ls[2]"
   ]
  },
  {
   "cell_type": "markdown",
   "metadata": {},
   "source": [
    "#### 3. Append `ls` with a new variable `new_ls = [1, False, 1]` with method `.append()` and print  `ls`."
   ]
  },
  {
   "cell_type": "code",
   "execution_count": 19,
   "metadata": {},
   "outputs": [
    {
     "data": {
      "text/plain": [
       "['ayyoub', True, 23, 101.349, [1, False, 1]]"
      ]
     },
     "execution_count": 19,
     "metadata": {},
     "output_type": "execute_result"
    }
   ],
   "source": [
    "ls = ['ayyoub', True, 23, 101.349]\n",
    "new_ls = [1, False, 1]\n",
    "\n",
    "ls.append(new_ls)\n",
    "\n",
    "ls"
   ]
  },
  {
   "cell_type": "markdown",
   "metadata": {},
   "source": [
    "#### 4. Extend `ls` with a new variable `new_ls` with a method `.extend()` and print  `ls`. See the difference?"
   ]
  },
  {
   "cell_type": "code",
   "execution_count": 20,
   "metadata": {},
   "outputs": [
    {
     "data": {
      "text/plain": [
       "['ayyoub', True, 23, 101.349, 1, False, 1]"
      ]
     },
     "execution_count": 20,
     "metadata": {},
     "output_type": "execute_result"
    }
   ],
   "source": [
    "ls = ['ayyoub', True, 23, 101.349]\n",
    "new_ls = [1, False, 1]\n",
    "\n",
    "ls.extend(new_ls)\n",
    "\n",
    "ls"
   ]
  },
  {
   "cell_type": "markdown",
   "metadata": {},
   "source": [
    "#### 5. Slice the 2nd to the 7th element of `seq = [5, 45, 21, 3, 6, 7, 2, 12, 111, 27, 7]`"
   ]
  },
  {
   "cell_type": "code",
   "execution_count": 29,
   "metadata": {},
   "outputs": [
    {
     "data": {
      "text/plain": [
       "[45, 21, 3, 6, 7, 2]"
      ]
     },
     "execution_count": 29,
     "metadata": {},
     "output_type": "execute_result"
    }
   ],
   "source": [
    "seq = [5, 45, 21, 3, 6, 7, 2, 12, 111, 27, 7]\n",
    "\n",
    "seq[1:7]"
   ]
  },
  {
   "cell_type": "markdown",
   "metadata": {},
   "source": [
    "#### 6. Return the 2nd element of the list from key `b`\n",
    "\n",
    "Let `d = {'a' : 'galang', 'b' : [1, 2, 3, 4]}`\n",
    "\n",
    "`a` and `b` are the keys while `'galang'` and `[1, 2, 3, 4]` are the values."
   ]
  },
  {
   "cell_type": "code",
   "execution_count": 34,
   "metadata": {},
   "outputs": [
    {
     "data": {
      "text/plain": [
       "2"
      ]
     },
     "execution_count": 34,
     "metadata": {},
     "output_type": "execute_result"
    }
   ],
   "source": [
    "d = {'a' : 'galang', 'b' : [1, 2, 3, 4]}\n",
    "\n",
    "x = d['b']\n",
    "x[1]"
   ]
  },
  {
   "cell_type": "markdown",
   "metadata": {},
   "source": [
    "#### 7. Print each element of the variable `x = range(100)`. Hint: you may want to use `for` loop."
   ]
  },
  {
   "cell_type": "code",
   "execution_count": 45,
   "metadata": {},
   "outputs": [
    {
     "name": "stdout",
     "output_type": "stream",
     "text": [
      "0\n",
      "1\n",
      "2\n",
      "3\n",
      "4\n",
      "5\n",
      "6\n",
      "7\n",
      "8\n",
      "9\n",
      "10\n",
      "11\n",
      "12\n",
      "13\n",
      "14\n",
      "15\n",
      "16\n",
      "17\n",
      "18\n",
      "19\n",
      "20\n",
      "21\n",
      "22\n",
      "23\n",
      "24\n",
      "25\n",
      "26\n",
      "27\n",
      "28\n",
      "29\n",
      "30\n",
      "31\n",
      "32\n",
      "33\n",
      "34\n",
      "35\n",
      "36\n",
      "37\n",
      "38\n",
      "39\n",
      "40\n",
      "41\n",
      "42\n",
      "43\n",
      "44\n",
      "45\n",
      "46\n",
      "47\n",
      "48\n",
      "49\n",
      "50\n",
      "51\n",
      "52\n",
      "53\n",
      "54\n",
      "55\n",
      "56\n",
      "57\n",
      "58\n",
      "59\n",
      "60\n",
      "61\n",
      "62\n",
      "63\n",
      "64\n",
      "65\n",
      "66\n",
      "67\n",
      "68\n",
      "69\n",
      "70\n",
      "71\n",
      "72\n",
      "73\n",
      "74\n",
      "75\n",
      "76\n",
      "77\n",
      "78\n",
      "79\n",
      "80\n",
      "81\n",
      "82\n",
      "83\n",
      "84\n",
      "85\n",
      "86\n",
      "87\n",
      "88\n",
      "89\n",
      "90\n",
      "91\n",
      "92\n",
      "93\n",
      "94\n",
      "95\n",
      "96\n",
      "97\n",
      "98\n",
      "99\n"
     ]
    }
   ],
   "source": [
    "x = range(100)\n",
    "\n",
    "for i in x:\n",
    "    print(i)\n"
   ]
  },
  {
   "cell_type": "markdown",
   "metadata": {},
   "source": [
    "#### 8. Perform NumPy import with an alias"
   ]
  },
  {
   "cell_type": "code",
   "execution_count": 46,
   "metadata": {},
   "outputs": [],
   "source": [
    "import numpy as np"
   ]
  },
  {
   "cell_type": "markdown",
   "metadata": {},
   "source": [
    "#### 9. Generate 9 x 9 matrix with random data"
   ]
  },
  {
   "cell_type": "code",
   "execution_count": 51,
   "metadata": {},
   "outputs": [
    {
     "data": {
      "text/plain": [
       "array([[0.90593507, 0.43065524, 0.30459879, 0.65381784, 0.0837892 ,\n",
       "        0.20844605, 0.02605666, 0.72802604, 0.27002142],\n",
       "       [0.57575897, 0.55567406, 0.16885121, 0.55186032, 0.93727006,\n",
       "        0.02064055, 0.96590708, 0.28356523, 0.02913514],\n",
       "       [0.93521726, 0.21182635, 0.63511674, 0.81231149, 0.22919173,\n",
       "        0.76562251, 0.18871386, 0.65517008, 0.61605376],\n",
       "       [0.75355651, 0.00983166, 0.81696635, 0.63326887, 0.99250243,\n",
       "        0.54651167, 0.11740352, 0.10662935, 0.43226941],\n",
       "       [0.74387146, 0.73056183, 0.42498951, 0.12820247, 0.25635844,\n",
       "        0.00855266, 0.41192506, 0.10893872, 0.21215589],\n",
       "       [0.77913177, 0.17861709, 0.1627804 , 0.03238938, 0.38724177,\n",
       "        0.46342648, 0.37977297, 0.04017813, 0.08282479],\n",
       "       [0.0803962 , 0.9903177 , 0.04951297, 0.23796591, 0.50265721,\n",
       "        0.30142192, 0.08766181, 0.87227107, 0.28489715],\n",
       "       [0.48010772, 0.44675316, 0.75170805, 0.1520734 , 0.73041791,\n",
       "        0.1585011 , 0.27211233, 0.69803873, 0.19420116],\n",
       "       [0.08852865, 0.2150982 , 0.15151758, 0.83250863, 0.89807155,\n",
       "        0.76324406, 0.26982505, 0.46868118, 0.91650425]])"
      ]
     },
     "execution_count": 51,
     "metadata": {},
     "output_type": "execute_result"
    }
   ],
   "source": [
    "my_array = np.random.rand(9, 9)\n",
    "\n",
    "my_array"
   ]
  },
  {
   "cell_type": "markdown",
   "metadata": {},
   "source": [
    "#### 10. Filter the `names` variable so it only returns `yogi`\n",
    "\n",
    "`names = np.array(['yogi', 'galang', 'ayyoub', 'yogi', 'yoga', 'ayyoub', 'yogi'])`"
   ]
  },
  {
   "cell_type": "code",
   "execution_count": 54,
   "metadata": {},
   "outputs": [
    {
     "data": {
      "text/plain": [
       "'yogi'"
      ]
     },
     "execution_count": 54,
     "metadata": {},
     "output_type": "execute_result"
    }
   ],
   "source": [
    "names = np.array(['yogi', 'galang', 'ayyoub', 'yogi', 'yoga', 'ayyoub', 'yogi'])\n",
    "\n",
    "names[0]"
   ]
  },
  {
   "cell_type": "markdown",
   "metadata": {},
   "source": [
    "#### 11. What is the dot product of matrix A and B?\n",
    "\n",
    "`A = np.array([[1, 2, 3], [4, 5, 6]])`\n",
    "\n",
    "`B = np.array([[7, 8], [9, 10], [11, 12]])`"
   ]
  },
  {
   "cell_type": "code",
   "execution_count": 56,
   "metadata": {},
   "outputs": [
    {
     "data": {
      "text/plain": [
       "array([[ 58,  64],\n",
       "       [139, 154]])"
      ]
     },
     "execution_count": 56,
     "metadata": {},
     "output_type": "execute_result"
    }
   ],
   "source": [
    "A = np.array([[1, 2, 3], [4, 5, 6]])\n",
    "B = np.array([[7, 8], [9, 10], [11, 12]])\n",
    "\n",
    "A.dot(B)"
   ]
  },
  {
   "cell_type": "markdown",
   "metadata": {},
   "source": [
    "#### 12. what is the percentage of positive numbers from a variable `arr = np.random.randn(1000)`?"
   ]
  },
  {
   "cell_type": "code",
   "execution_count": 206,
   "metadata": {},
   "outputs": [],
   "source": [
    "arr = np.random.randn(1000)"
   ]
  },
  {
   "cell_type": "code",
   "execution_count": 207,
   "metadata": {},
   "outputs": [
    {
     "data": {
      "text/plain": [
       "0.491"
      ]
     },
     "execution_count": 207,
     "metadata": {},
     "output_type": "execute_result"
    }
   ],
   "source": [
    "len(arr[arr > 0])/len(arr)"
   ]
  },
  {
   "cell_type": "markdown",
   "metadata": {},
   "source": [
    "##### Testing "
   ]
  },
  {
   "cell_type": "code",
   "execution_count": 135,
   "metadata": {},
   "outputs": [],
   "source": [
    "res = []\n",
    "\n",
    "for i in range(1, 1000):\n",
    "    arr = np.random.randn(1000)\n",
    "    temp = len(arr[arr > 0])/len(arr)\n",
    "    \n",
    "    res.append(temp)\n",
    "    \n",
    "res_arr = np.array(res)"
   ]
  },
  {
   "cell_type": "code",
   "execution_count": 137,
   "metadata": {},
   "outputs": [
    {
     "data": {
      "text/plain": [
       "0.49962662662662666"
      ]
     },
     "execution_count": 137,
     "metadata": {},
     "output_type": "execute_result"
    }
   ],
   "source": [
    "res_arr.mean()"
   ]
  },
  {
   "cell_type": "markdown",
   "metadata": {},
   "source": [
    "#### 13. Calculate the mean of matrix `X = np.random.randn(10, 4)` column wise."
   ]
  },
  {
   "cell_type": "code",
   "execution_count": 65,
   "metadata": {},
   "outputs": [
    {
     "data": {
      "text/plain": [
       "-0.07247411940862745"
      ]
     },
     "execution_count": 65,
     "metadata": {},
     "output_type": "execute_result"
    }
   ],
   "source": [
    "X = np.random.randn(10, 4)\n",
    "\n",
    "X.mean()"
   ]
  },
  {
   "cell_type": "markdown",
   "metadata": {},
   "source": [
    "#### 14. Generate 1 million normally distributed random numbers by using `np.random.normal(size=1000000)`. What is the percentage of numbers that are greater than or equal to 0? What does the result tell you?\n"
   ]
  },
  {
   "cell_type": "code",
   "execution_count": 236,
   "metadata": {},
   "outputs": [
    {
     "data": {
      "text/plain": [
       "0.499799"
      ]
     },
     "execution_count": 236,
     "metadata": {},
     "output_type": "execute_result"
    }
   ],
   "source": [
    "mill_arr = np.random.normal(size=1000000)\n",
    "\n",
    "len(mill_arr[mill_arr >= 0])/len(mill_arr)"
   ]
  },
  {
   "cell_type": "markdown",
   "metadata": {},
   "source": [
    "##### Testing"
   ]
  },
  {
   "cell_type": "code",
   "execution_count": 179,
   "metadata": {},
   "outputs": [],
   "source": [
    "res = []\n",
    "\n",
    "for i in range(1, 1000):\n",
    "    arr = np.random.normal(size=1000000)\n",
    "    temp = len(arr[arr >= 0])/len(arr)\n",
    "    \n",
    "    res.append(temp)\n",
    "    \n",
    "res_arr = np.array(res)"
   ]
  },
  {
   "cell_type": "code",
   "execution_count": 182,
   "metadata": {},
   "outputs": [
    {
     "data": {
      "text/plain": [
       "0.49999065265265263"
      ]
     },
     "execution_count": 182,
     "metadata": {},
     "output_type": "execute_result"
    }
   ],
   "source": [
    "res_arr.mean()"
   ]
  },
  {
   "cell_type": "markdown",
   "metadata": {},
   "source": [
    "#### 15. Using the array above, calculate the mean and standard deviation and round the results with a `.round()` method. What do the results tell you?"
   ]
  },
  {
   "cell_type": "code",
   "execution_count": 245,
   "metadata": {},
   "outputs": [
    {
     "data": {
      "text/plain": [
       "-0.0"
      ]
     },
     "execution_count": 245,
     "metadata": {},
     "output_type": "execute_result"
    }
   ],
   "source": [
    "mill_arr.mean().round()"
   ]
  },
  {
   "cell_type": "code",
   "execution_count": 244,
   "metadata": {},
   "outputs": [
    {
     "data": {
      "text/plain": [
       "1.0"
      ]
     },
     "execution_count": 244,
     "metadata": {},
     "output_type": "execute_result"
    }
   ],
   "source": [
    "mill_arr.std().round()"
   ]
  }
 ],
 "metadata": {
  "kernelspec": {
   "display_name": "Python 3",
   "language": "python",
   "name": "python3"
  },
  "language_info": {
   "codemirror_mode": {
    "name": "ipython",
    "version": 3
   },
   "file_extension": ".py",
   "mimetype": "text/x-python",
   "name": "python",
   "nbconvert_exporter": "python",
   "pygments_lexer": "ipython3",
   "version": "3.6.9"
  }
 },
 "nbformat": 4,
 "nbformat_minor": 4
}
